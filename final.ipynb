{
 "cells": [
  {
   "cell_type": "code",
   "execution_count": 1,
   "metadata": {},
   "outputs": [],
   "source": [
    "import numpy as np\n",
    "import pandas as pd \n",
    "import matplotlib.pyplot as plt\n",
    "from collections import Counter"
   ]
  },
  {
   "cell_type": "code",
   "execution_count": 2,
   "metadata": {},
   "outputs": [
    {
     "name": "stderr",
     "output_type": "stream",
     "text": [
      "/srv/conda/lib/python3.6/site-packages/IPython/core/interactiveshell.py:2785: DtypeWarning: Columns (0,2,8,10,21,23,24,25,26,27,28,44,56,64,83,85,87,107,109,123,125,150,157,172,174,194,210,218,219,223,246,249,262,264,276,277,278,279,280,281,282,283,284,285,286,287,288,289,290,304,306,325,326,329,341,368,371,384,385,389,390,391,393,394) have mixed types. Specify dtype option on import or set low_memory=False.\n",
      "  interactivity=interactivity, compiler=compiler, result=result)\n"
     ]
    }
   ],
   "source": [
    "data = pd.read_csv('kaggle-survey-2018/multipleChoiceResponses.csv')\n",
    "questions = data.iloc[:1]\n",
    "data1 = data.iloc[1:]"
   ]
  },
  {
   "cell_type": "markdown",
   "metadata": {},
   "source": [
    "POPULATION OF THE COUNTRIES"
   ]
  },
  {
   "cell_type": "code",
   "execution_count": 49,
   "metadata": {},
   "outputs": [],
   "source": [
    "pop_data = pd.read_csv(\"https://raw.githubusercontent.com/datasets/population/master/data/population.csv\").iloc[2624:]"
   ]
  },
  {
   "cell_type": "code",
   "execution_count": 50,
   "metadata": {},
   "outputs": [],
   "source": [
    "pop2016condition = pop_data['Year'] == 2016\n",
    "pop_data = pop_data[pop2016condition]"
   ]
  },
  {
   "cell_type": "code",
   "execution_count": 74,
   "metadata": {},
   "outputs": [],
   "source": [
    "pop_data['Country Name'] = pop_data['Country Name'].replace('United States', 'United States of America')\n",
    "pop_data['Country Name'] = pop_data['Country Name'].replace('United Kingdom', 'United Kingdom of Great Britain and Northern Ireland')\n",
    "pop_data['Country Name'] = pop_data['Country Name'].replace('Iran, Islamic Rep.', 'Iran, Islamic Republic of...')\n",
    "pop_data['Country Name'] = pop_data['Country Name'].replace(\"Korea, Dem. People's Rep.\", 'Republic of Korea')\n",
    "pop_data['Country Name'] = pop_data['Country Name'].replace(\"Korea, Rep.\", 'South Korea')\n",
    "pop_data['Country Name'] = pop_data['Country Name'].replace(\"Hong Kong SAR, China\", \"Hong Kong (S.A.R.)\")"
   ]
  },
  {
   "cell_type": "code",
   "execution_count": null,
   "metadata": {},
   "outputs": [],
   "source": []
  },
  {
   "cell_type": "code",
   "execution_count": 75,
   "metadata": {},
   "outputs": [
    {
     "name": "stdout",
     "output_type": "stream",
     "text": [
      "Argentina\n",
      "Australia\n",
      "Austria\n",
      "Bangladesh\n",
      "Belarus\n",
      "Belgium\n",
      "Brazil\n",
      "Canada\n",
      "Chile\n",
      "China\n",
      "Colombia\n",
      "Czech Republic\n",
      "Denmark\n",
      "Finland\n",
      "France\n",
      "Germany\n",
      "Greece\n",
      "Hong Kong (S.A.R.)\n",
      "Hungary\n",
      "India\n",
      "Indonesia\n",
      "Iran, Islamic Republic of...\n",
      "Ireland\n",
      "Israel\n",
      "Italy\n",
      "Japan\n",
      "Kenya\n",
      "Republic of Korea\n",
      "Malaysia\n",
      "Mexico\n",
      "Morocco\n",
      "Netherlands\n",
      "New Zealand\n",
      "Nigeria\n",
      "Norway\n",
      "Pakistan\n",
      "Peru\n",
      "Philippines\n",
      "Poland\n",
      "Portugal\n",
      "Romania\n",
      "Singapore\n",
      "South Africa\n",
      "Spain\n",
      "Sweden\n",
      "Switzerland\n",
      "Thailand\n",
      "Tunisia\n",
      "Turkey\n",
      "Ukraine\n",
      "United Kingdom of Great Britain and Northern Ireland\n",
      "United States of America\n"
     ]
    }
   ],
   "source": [
    "for i in pop_data['Country Name']:\n",
    "    if i in Counter(data1['Q3']):\n",
    "        print(i)"
   ]
  },
  {
   "cell_type": "code",
   "execution_count": 62,
   "metadata": {},
   "outputs": [
    {
     "data": {
      "text/plain": [
       "Counter({'United States of America': 4716,\n",
       "         'Indonesia': 171,\n",
       "         'India': 4417,\n",
       "         'Colombia': 128,\n",
       "         'Chile': 76,\n",
       "         'Turkey': 327,\n",
       "         'Hungary': 93,\n",
       "         'Ireland': 101,\n",
       "         'France': 604,\n",
       "         'Argentina': 119,\n",
       "         'Japan': 597,\n",
       "         'Nigeria': 208,\n",
       "         'Spain': 485,\n",
       "         'Other': 1036,\n",
       "         'Iran, Islamic Republic of...': 113,\n",
       "         'United Kingdom of Great Britain and Northern Ireland': 702,\n",
       "         'Poland': 301,\n",
       "         'Kenya': 85,\n",
       "         'Denmark': 106,\n",
       "         'Netherlands': 270,\n",
       "         'China': 1644,\n",
       "         'Sweden': 155,\n",
       "         'Ukraine': 252,\n",
       "         'Canada': 604,\n",
       "         'Australia': 330,\n",
       "         'Russia': 879,\n",
       "         'Austria': 62,\n",
       "         'Italy': 355,\n",
       "         'Mexico': 202,\n",
       "         'Germany': 734,\n",
       "         'I do not wish to disclose my location': 394,\n",
       "         'Singapore': 186,\n",
       "         'Brazil': 736,\n",
       "         'Switzerland': 164,\n",
       "         'South Africa': 147,\n",
       "         'South Korea': 188,\n",
       "         'Malaysia': 113,\n",
       "         'Hong Kong (S.A.R.)': 76,\n",
       "         'Egypt': 96,\n",
       "         'Tunisia': 74,\n",
       "         'Portugal': 155,\n",
       "         'Thailand': 73,\n",
       "         'Morocco': 71,\n",
       "         'Pakistan': 161,\n",
       "         'Czech Republic': 72,\n",
       "         'Romania': 79,\n",
       "         'Israel': 173,\n",
       "         'Philippines': 73,\n",
       "         'Bangladesh': 107,\n",
       "         'Belarus': 91,\n",
       "         'Viet Nam': 144,\n",
       "         'Belgium': 111,\n",
       "         'New Zealand': 77,\n",
       "         'Norway': 74,\n",
       "         'Finland': 79,\n",
       "         'Greece': 121,\n",
       "         'Peru': 81,\n",
       "         'Republic of Korea': 71})"
      ]
     },
     "execution_count": 62,
     "metadata": {},
     "output_type": "execute_result"
    }
   ],
   "source": [
    "Counter(data1['Q3'])"
   ]
  },
  {
   "cell_type": "code",
   "execution_count": null,
   "metadata": {},
   "outputs": [],
   "source": []
  }
 ],
 "metadata": {
  "kernelspec": {
   "display_name": "Python 3",
   "language": "python",
   "name": "python3"
  },
  "language_info": {
   "codemirror_mode": {
    "name": "ipython",
    "version": 3
   },
   "file_extension": ".py",
   "mimetype": "text/x-python",
   "name": "python",
   "nbconvert_exporter": "python",
   "pygments_lexer": "ipython3",
   "version": "3.6.6"
  }
 },
 "nbformat": 4,
 "nbformat_minor": 2
}
